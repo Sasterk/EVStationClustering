{
 "cells": [
  {
   "cell_type": "code",
   "execution_count": 41,
   "id": "29976769",
   "metadata": {},
   "outputs": [],
   "source": [
    "import pandas as pd\n",
    "from pathlib import Path\n",
    "from sklearn.model_selection import train_test_split\n",
    "from sklearn.preprocessing import StandardScaler, OneHotEncoder\n",
    "from sklearn.metrics import accuracy_score, precision_score, recall_score, f1_score\n",
    "from keras.models import Sequential\n",
    "from keras.layers import Dense, Dropout\n",
    "from keras.callbacks import EarlyStopping\n",
    "from pathlib import Path\n",
    "import joblib"
   ]
  },
  {
   "cell_type": "code",
   "execution_count": 42,
   "id": "12692fb5",
   "metadata": {},
   "outputs": [
    {
     "data": {
      "text/html": [
       "<div>\n",
       "<style scoped>\n",
       "    .dataframe tbody tr th:only-of-type {\n",
       "        vertical-align: middle;\n",
       "    }\n",
       "\n",
       "    .dataframe tbody tr th {\n",
       "        vertical-align: top;\n",
       "    }\n",
       "\n",
       "    .dataframe thead th {\n",
       "        text-align: right;\n",
       "    }\n",
       "</style>\n",
       "<table border=\"1\" class=\"dataframe\">\n",
       "  <thead>\n",
       "    <tr style=\"text-align: right;\">\n",
       "      <th></th>\n",
       "      <th>City</th>\n",
       "      <th>State</th>\n",
       "      <th>Total EV Chargers</th>\n",
       "      <th>Median Income (16 and over)</th>\n",
       "      <th>Total Population</th>\n",
       "    </tr>\n",
       "  </thead>\n",
       "  <tbody>\n",
       "    <tr>\n",
       "      <th>0</th>\n",
       "      <td>Abilene</td>\n",
       "      <td>Texas</td>\n",
       "      <td>23</td>\n",
       "      <td>35115</td>\n",
       "      <td>128149</td>\n",
       "    </tr>\n",
       "    <tr>\n",
       "      <th>1</th>\n",
       "      <td>Akron</td>\n",
       "      <td>Ohio</td>\n",
       "      <td>80</td>\n",
       "      <td>36969</td>\n",
       "      <td>188498</td>\n",
       "    </tr>\n",
       "    <tr>\n",
       "      <th>2</th>\n",
       "      <td>Alameda</td>\n",
       "      <td>California</td>\n",
       "      <td>145</td>\n",
       "      <td>82773</td>\n",
       "      <td>76039</td>\n",
       "    </tr>\n",
       "    <tr>\n",
       "      <th>3</th>\n",
       "      <td>Albany</td>\n",
       "      <td>Georgia</td>\n",
       "      <td>554</td>\n",
       "      <td>26766</td>\n",
       "      <td>67922</td>\n",
       "    </tr>\n",
       "    <tr>\n",
       "      <th>4</th>\n",
       "      <td>Albany</td>\n",
       "      <td>New York</td>\n",
       "      <td>554</td>\n",
       "      <td>26766</td>\n",
       "      <td>100832</td>\n",
       "    </tr>\n",
       "  </tbody>\n",
       "</table>\n",
       "</div>"
      ],
      "text/plain": [
       "      City       State  Total EV Chargers  Median Income (16 and over)  \\\n",
       "0  Abilene       Texas                 23                        35115   \n",
       "1    Akron        Ohio                 80                        36969   \n",
       "2  Alameda  California                145                        82773   \n",
       "3   Albany     Georgia                554                        26766   \n",
       "4   Albany    New York                554                        26766   \n",
       "\n",
       "   Total Population  \n",
       "0            128149  \n",
       "1            188498  \n",
       "2             76039  \n",
       "3             67922  \n",
       "4            100832  "
      ]
     },
     "execution_count": 42,
     "metadata": {},
     "output_type": "execute_result"
    }
   ],
   "source": [
    "# Read the CSV file from the Resources folder into a Pandas DataFrame\n",
    "file_path = Path(\"combined_final.csv\")\n",
    "ev_df = pd.read_csv(file_path)\n",
    "\n",
    "\n",
    "# Review the DataFrame\n",
    "ev_df.head()"
   ]
  },
  {
   "cell_type": "code",
   "execution_count": 43,
   "id": "50307180",
   "metadata": {},
   "outputs": [],
   "source": [
    "# Defining a threshold for the number of chargers to determine EV station presence\n",
    "charger_threshold = 10"
   ]
  },
  {
   "cell_type": "code",
   "execution_count": 44,
   "id": "2ea42662",
   "metadata": {},
   "outputs": [],
   "source": [
    "# Creating a new column 'EV_Station_Presence' based on the threshold\n",
    "ev_df['EV_Station_Presence'] = ev_df['Total EV Chargers'].apply(lambda x: 1 if x >= charger_threshold else 0)"
   ]
  },
  {
   "cell_type": "code",
   "execution_count": 45,
   "id": "95c72345",
   "metadata": {},
   "outputs": [],
   "source": [
    "# Feature columns used for prediction (including City)\n",
    "feature_columns = ['Total EV Chargers', 'Median Income (16 and over)', 'Total Population', 'City']"
   ]
  },
  {
   "cell_type": "code",
   "execution_count": 46,
   "id": "3cf48bbe",
   "metadata": {},
   "outputs": [],
   "source": [
    "# Creating feature matrix X and target vector y\n",
    "X = ev_df[feature_columns]\n",
    "y = ev_df['EV_Station_Presence']"
   ]
  },
  {
   "cell_type": "code",
   "execution_count": 47,
   "id": "86f2b420",
   "metadata": {},
   "outputs": [],
   "source": [
    "# Splitting the data into training and testing sets\n",
    "X_train, X_test, y_train, y_test = train_test_split(X, y, test_size=0.2, random_state=42)"
   ]
  },
  {
   "cell_type": "code",
   "execution_count": 48,
   "id": "6dda0c60",
   "metadata": {},
   "outputs": [],
   "source": [
    "# Preprocessing numerical features (scaling)\n",
    "num_columns = ['Total EV Chargers', 'Median Income (16 and over)', 'Total Population']\n",
    "scaler = StandardScaler()\n",
    "X_train_num = scaler.fit_transform(X_train[num_columns])\n",
    "X_test_num = scaler.transform(X_test[num_columns])"
   ]
  },
  {
   "cell_type": "code",
   "execution_count": 49,
   "id": "572d1049",
   "metadata": {},
   "outputs": [
    {
     "name": "stderr",
     "output_type": "stream",
     "text": [
      "D:\\Anaconda\\lib\\site-packages\\sklearn\\preprocessing\\_encoders.py:808: FutureWarning: `sparse` was renamed to `sparse_output` in version 1.2 and will be removed in 1.4. `sparse_output` is ignored unless you leave `sparse` to its default value.\n",
      "  warnings.warn(\n"
     ]
    }
   ],
   "source": [
    "# Preprocessing categorical feature (one-hot encoding)\n",
    "cat_column = ['City']\n",
    "encoder = OneHotEncoder(handle_unknown='ignore', sparse=False)\n",
    "X_train_cat = encoder.fit_transform(X_train[cat_column])\n",
    "X_test_cat = encoder.transform(X_test[cat_column])"
   ]
  },
  {
   "cell_type": "code",
   "execution_count": 50,
   "id": "78c30677",
   "metadata": {},
   "outputs": [],
   "source": [
    "# Concatenating numerical and categorical features\n",
    "X_train_final = Concatenate()([X_train_num, X_train_cat])\n",
    "X_test_final = Concatenate()([X_test_num, X_test_cat])"
   ]
  },
  {
   "cell_type": "code",
   "execution_count": 51,
   "id": "a5214d85",
   "metadata": {},
   "outputs": [],
   "source": [
    "# Building the neural network model with modifications as discussed\n",
    "model = Sequential()\n",
    "model.add(Dense(units=32, activation='relu', input_dim=X_train_final.shape[1]))  # Example reduction in model complexity\n",
    "model.add(Dropout(0.2))\n",
    "model.add(Dense(units=1, activation='sigmoid'))\n",
    "\n",
    "model.compile(optimizer='adam', loss='binary_crossentropy', metrics=['accuracy'])"
   ]
  },
  {
   "cell_type": "code",
   "execution_count": 52,
   "id": "e89d56e6",
   "metadata": {},
   "outputs": [
    {
     "name": "stdout",
     "output_type": "stream",
     "text": [
      "Epoch 1/100\n",
      "16/16 [==============================] - 1s 9ms/step - loss: -55.6449 - accuracy: 0.0000e+00 - val_loss: -96.3162 - val_accuracy: 0.0000e+00\n",
      "Epoch 2/100\n",
      "16/16 [==============================] - 0s 3ms/step - loss: -90.2794 - accuracy: 0.0000e+00 - val_loss: -149.4448 - val_accuracy: 0.0000e+00\n",
      "Epoch 3/100\n",
      "16/16 [==============================] - 0s 3ms/step - loss: -146.0060 - accuracy: 0.0000e+00 - val_loss: -212.7989 - val_accuracy: 0.0000e+00\n",
      "Epoch 4/100\n",
      "16/16 [==============================] - 0s 3ms/step - loss: -188.1988 - accuracy: 0.0000e+00 - val_loss: -266.4677 - val_accuracy: 0.0000e+00\n",
      "Epoch 5/100\n",
      "16/16 [==============================] - 0s 3ms/step - loss: -217.4671 - accuracy: 0.0000e+00 - val_loss: -334.1426 - val_accuracy: 0.0000e+00\n",
      "Epoch 6/100\n",
      "16/16 [==============================] - 0s 3ms/step - loss: -316.7135 - accuracy: 0.0000e+00 - val_loss: -405.8161 - val_accuracy: 0.0000e+00\n",
      "Epoch 7/100\n",
      "16/16 [==============================] - 0s 3ms/step - loss: -389.8175 - accuracy: 0.0000e+00 - val_loss: -484.3312 - val_accuracy: 0.0000e+00\n",
      "Epoch 8/100\n",
      "16/16 [==============================] - 0s 3ms/step - loss: -397.9140 - accuracy: 0.0000e+00 - val_loss: -586.8609 - val_accuracy: 0.0000e+00\n",
      "Epoch 9/100\n",
      "16/16 [==============================] - 0s 3ms/step - loss: -538.5642 - accuracy: 0.0000e+00 - val_loss: -674.2035 - val_accuracy: 0.0000e+00\n",
      "Epoch 10/100\n",
      "16/16 [==============================] - 0s 3ms/step - loss: -533.4102 - accuracy: 0.0000e+00 - val_loss: -770.1844 - val_accuracy: 0.0000e+00\n",
      "Epoch 11/100\n",
      "16/16 [==============================] - 0s 3ms/step - loss: -636.2051 - accuracy: 0.0000e+00 - val_loss: -853.3682 - val_accuracy: 0.0000e+00\n",
      "Epoch 12/100\n",
      "16/16 [==============================] - 0s 3ms/step - loss: -752.3384 - accuracy: 0.0000e+00 - val_loss: -969.9443 - val_accuracy: 0.0000e+00\n",
      "Epoch 13/100\n",
      "16/16 [==============================] - 0s 3ms/step - loss: -890.8872 - accuracy: 0.0000e+00 - val_loss: -1075.0399 - val_accuracy: 0.0000e+00\n",
      "Epoch 14/100\n",
      "16/16 [==============================] - 0s 3ms/step - loss: -950.0063 - accuracy: 0.0000e+00 - val_loss: -1222.9707 - val_accuracy: 0.0000e+00\n",
      "Epoch 15/100\n",
      "16/16 [==============================] - 0s 3ms/step - loss: -1072.2156 - accuracy: 0.0000e+00 - val_loss: -1346.9176 - val_accuracy: 0.0000e+00\n",
      "Epoch 16/100\n",
      "16/16 [==============================] - 0s 3ms/step - loss: -1195.2720 - accuracy: 0.0000e+00 - val_loss: -1480.0737 - val_accuracy: 0.0000e+00\n",
      "Epoch 17/100\n",
      "16/16 [==============================] - 0s 3ms/step - loss: -1161.1664 - accuracy: 0.0000e+00 - val_loss: -1633.5936 - val_accuracy: 0.0000e+00\n",
      "Epoch 18/100\n",
      "16/16 [==============================] - 0s 3ms/step - loss: -1423.4164 - accuracy: 0.0000e+00 - val_loss: -1777.0281 - val_accuracy: 0.0000e+00\n",
      "Epoch 19/100\n",
      "16/16 [==============================] - 0s 3ms/step - loss: -1443.4076 - accuracy: 0.0000e+00 - val_loss: -1917.8997 - val_accuracy: 0.0000e+00\n",
      "Epoch 20/100\n",
      "16/16 [==============================] - 0s 3ms/step - loss: -1610.5327 - accuracy: 0.0000e+00 - val_loss: -2103.9956 - val_accuracy: 0.0000e+00\n",
      "Epoch 21/100\n",
      "16/16 [==============================] - 0s 3ms/step - loss: -1867.9728 - accuracy: 0.0000e+00 - val_loss: -2287.0708 - val_accuracy: 0.0000e+00\n",
      "Epoch 22/100\n",
      "16/16 [==============================] - 0s 3ms/step - loss: -1885.8682 - accuracy: 0.0000e+00 - val_loss: -2458.8601 - val_accuracy: 0.0000e+00\n",
      "Epoch 23/100\n",
      "16/16 [==============================] - 0s 3ms/step - loss: -2132.1462 - accuracy: 0.0000e+00 - val_loss: -2663.3833 - val_accuracy: 0.0000e+00\n",
      "Epoch 24/100\n",
      "16/16 [==============================] - 0s 3ms/step - loss: -2275.6973 - accuracy: 0.0000e+00 - val_loss: -2876.6101 - val_accuracy: 0.0000e+00\n",
      "Epoch 25/100\n",
      "16/16 [==============================] - 0s 3ms/step - loss: -2334.6511 - accuracy: 0.0000e+00 - val_loss: -3061.0439 - val_accuracy: 0.0000e+00\n",
      "Epoch 26/100\n",
      "16/16 [==============================] - 0s 3ms/step - loss: -2312.3062 - accuracy: 0.0000e+00 - val_loss: -3256.6133 - val_accuracy: 0.0000e+00\n",
      "Epoch 27/100\n",
      "16/16 [==============================] - 0s 3ms/step - loss: -2756.5869 - accuracy: 0.0000e+00 - val_loss: -3516.4370 - val_accuracy: 0.0000e+00\n",
      "Epoch 28/100\n",
      "16/16 [==============================] - 0s 3ms/step - loss: -2744.4001 - accuracy: 0.0000e+00 - val_loss: -3728.2874 - val_accuracy: 0.0000e+00\n",
      "Epoch 29/100\n",
      "16/16 [==============================] - 0s 3ms/step - loss: -3076.3660 - accuracy: 0.0000e+00 - val_loss: -3975.3096 - val_accuracy: 0.0000e+00\n",
      "Epoch 30/100\n",
      "16/16 [==============================] - 0s 3ms/step - loss: -3027.8545 - accuracy: 0.0000e+00 - val_loss: -4231.1294 - val_accuracy: 0.0000e+00\n",
      "Epoch 31/100\n",
      "16/16 [==============================] - 0s 3ms/step - loss: -3462.4067 - accuracy: 0.0000e+00 - val_loss: -4489.4941 - val_accuracy: 0.0000e+00\n",
      "Epoch 32/100\n",
      "16/16 [==============================] - 0s 3ms/step - loss: -3674.2251 - accuracy: 0.0000e+00 - val_loss: -4724.7451 - val_accuracy: 0.0000e+00\n",
      "Epoch 33/100\n",
      "16/16 [==============================] - 0s 3ms/step - loss: -4100.0825 - accuracy: 0.0000e+00 - val_loss: -5035.9150 - val_accuracy: 0.0000e+00\n",
      "Epoch 34/100\n",
      "16/16 [==============================] - 0s 3ms/step - loss: -3983.0471 - accuracy: 0.0000e+00 - val_loss: -5303.9219 - val_accuracy: 0.0000e+00\n",
      "Epoch 35/100\n",
      "16/16 [==============================] - 0s 3ms/step - loss: -4347.5278 - accuracy: 0.0000e+00 - val_loss: -5617.5039 - val_accuracy: 0.0000e+00\n",
      "Epoch 36/100\n",
      "16/16 [==============================] - 0s 3ms/step - loss: -4545.8213 - accuracy: 0.0000e+00 - val_loss: -5922.9385 - val_accuracy: 0.0000e+00\n",
      "Epoch 37/100\n",
      "16/16 [==============================] - 0s 3ms/step - loss: -4817.8711 - accuracy: 0.0000e+00 - val_loss: -6233.2051 - val_accuracy: 0.0000e+00\n",
      "Epoch 38/100\n",
      "16/16 [==============================] - 0s 3ms/step - loss: -5289.2480 - accuracy: 0.0000e+00 - val_loss: -6533.4990 - val_accuracy: 0.0000e+00\n",
      "Epoch 39/100\n",
      "16/16 [==============================] - 0s 3ms/step - loss: -5627.0693 - accuracy: 0.0000e+00 - val_loss: -6880.4907 - val_accuracy: 0.0000e+00\n",
      "Epoch 40/100\n",
      "16/16 [==============================] - 0s 3ms/step - loss: -5431.1064 - accuracy: 0.0000e+00 - val_loss: -7330.6270 - val_accuracy: 0.0000e+00\n",
      "Epoch 41/100\n",
      "16/16 [==============================] - 0s 3ms/step - loss: -5926.7954 - accuracy: 0.0000e+00 - val_loss: -7678.1338 - val_accuracy: 0.0000e+00\n",
      "Epoch 42/100\n",
      "16/16 [==============================] - 0s 3ms/step - loss: -6102.8027 - accuracy: 0.0000e+00 - val_loss: -8018.2563 - val_accuracy: 0.0000e+00\n",
      "Epoch 43/100\n",
      "16/16 [==============================] - 0s 3ms/step - loss: -6690.2100 - accuracy: 0.0000e+00 - val_loss: -8381.6729 - val_accuracy: 0.0000e+00\n",
      "Epoch 44/100\n",
      "16/16 [==============================] - 0s 3ms/step - loss: -6387.1929 - accuracy: 0.0000e+00 - val_loss: -8725.2256 - val_accuracy: 0.0000e+00\n",
      "Epoch 45/100\n",
      "16/16 [==============================] - 0s 3ms/step - loss: -7169.1274 - accuracy: 0.0000e+00 - val_loss: -9082.5645 - val_accuracy: 0.0000e+00\n",
      "Epoch 46/100\n",
      "16/16 [==============================] - 0s 3ms/step - loss: -7035.3867 - accuracy: 0.0000e+00 - val_loss: -9428.1406 - val_accuracy: 0.0000e+00\n",
      "Epoch 47/100\n",
      "16/16 [==============================] - 0s 3ms/step - loss: -7574.1460 - accuracy: 0.0000e+00 - val_loss: -9776.7852 - val_accuracy: 0.0000e+00\n",
      "Epoch 48/100\n",
      "16/16 [==============================] - 0s 3ms/step - loss: -8090.3291 - accuracy: 0.0000e+00 - val_loss: -10224.9209 - val_accuracy: 0.0000e+00\n",
      "Epoch 49/100\n",
      "16/16 [==============================] - 0s 3ms/step - loss: -8317.4727 - accuracy: 0.0000e+00 - val_loss: -10588.0879 - val_accuracy: 0.0000e+00\n",
      "Epoch 50/100\n",
      "16/16 [==============================] - 0s 3ms/step - loss: -8016.3184 - accuracy: 0.0000e+00 - val_loss: -10971.1465 - val_accuracy: 0.0000e+00\n",
      "Epoch 51/100\n",
      "16/16 [==============================] - 0s 3ms/step - loss: -9300.9355 - accuracy: 0.0000e+00 - val_loss: -11440.9561 - val_accuracy: 0.0000e+00\n",
      "Epoch 52/100\n",
      "16/16 [==============================] - 0s 3ms/step - loss: -9300.4648 - accuracy: 0.0000e+00 - val_loss: -11855.0498 - val_accuracy: 0.0000e+00\n",
      "Epoch 53/100\n"
     ]
    },
    {
     "name": "stdout",
     "output_type": "stream",
     "text": [
      "16/16 [==============================] - 0s 3ms/step - loss: -9429.1562 - accuracy: 0.0000e+00 - val_loss: -12297.2939 - val_accuracy: 0.0000e+00\n",
      "Epoch 54/100\n",
      "16/16 [==============================] - 0s 3ms/step - loss: -10000.0830 - accuracy: 0.0000e+00 - val_loss: -12736.7715 - val_accuracy: 0.0000e+00\n",
      "Epoch 55/100\n",
      "16/16 [==============================] - 0s 3ms/step - loss: -10525.5195 - accuracy: 0.0000e+00 - val_loss: -13181.5693 - val_accuracy: 0.0000e+00\n",
      "Epoch 56/100\n",
      "16/16 [==============================] - 0s 3ms/step - loss: -10258.3955 - accuracy: 0.0000e+00 - val_loss: -13650.6914 - val_accuracy: 0.0000e+00\n",
      "Epoch 57/100\n",
      "16/16 [==============================] - 0s 3ms/step - loss: -10810.7451 - accuracy: 0.0000e+00 - val_loss: -14076.3203 - val_accuracy: 0.0000e+00\n",
      "Epoch 58/100\n",
      "16/16 [==============================] - 0s 3ms/step - loss: -11791.3438 - accuracy: 0.0000e+00 - val_loss: -14578.6162 - val_accuracy: 0.0000e+00\n",
      "Epoch 59/100\n",
      "16/16 [==============================] - 0s 3ms/step - loss: -12081.1045 - accuracy: 0.0000e+00 - val_loss: -15066.8721 - val_accuracy: 0.0000e+00\n",
      "Epoch 60/100\n",
      "16/16 [==============================] - 0s 3ms/step - loss: -12186.2129 - accuracy: 0.0000e+00 - val_loss: -15531.8057 - val_accuracy: 0.0000e+00\n",
      "Epoch 61/100\n",
      "16/16 [==============================] - 0s 3ms/step - loss: -13411.6895 - accuracy: 0.0000e+00 - val_loss: -16071.8535 - val_accuracy: 0.0000e+00\n",
      "Epoch 62/100\n",
      "16/16 [==============================] - 0s 3ms/step - loss: -13630.5439 - accuracy: 0.0000e+00 - val_loss: -16649.2422 - val_accuracy: 0.0000e+00\n",
      "Epoch 63/100\n",
      "16/16 [==============================] - 0s 3ms/step - loss: -12224.8184 - accuracy: 0.0000e+00 - val_loss: -17130.4473 - val_accuracy: 0.0000e+00\n",
      "Epoch 64/100\n",
      "16/16 [==============================] - 0s 3ms/step - loss: -13656.4316 - accuracy: 0.0000e+00 - val_loss: -17638.2266 - val_accuracy: 0.0000e+00\n",
      "Epoch 65/100\n",
      "16/16 [==============================] - 0s 3ms/step - loss: -14358.3896 - accuracy: 0.0000e+00 - val_loss: -18125.6953 - val_accuracy: 0.0000e+00\n",
      "Epoch 66/100\n",
      "16/16 [==============================] - 0s 3ms/step - loss: -14000.8418 - accuracy: 0.0000e+00 - val_loss: -18702.4141 - val_accuracy: 0.0000e+00\n",
      "Epoch 67/100\n",
      "16/16 [==============================] - 0s 3ms/step - loss: -15187.9336 - accuracy: 0.0000e+00 - val_loss: -19252.8145 - val_accuracy: 0.0000e+00\n",
      "Epoch 68/100\n",
      "16/16 [==============================] - 0s 3ms/step - loss: -15886.5527 - accuracy: 0.0000e+00 - val_loss: -19811.2676 - val_accuracy: 0.0000e+00\n",
      "Epoch 69/100\n",
      "16/16 [==============================] - 0s 3ms/step - loss: -15933.4434 - accuracy: 0.0000e+00 - val_loss: -20365.8887 - val_accuracy: 0.0000e+00\n",
      "Epoch 70/100\n",
      "16/16 [==============================] - 0s 3ms/step - loss: -16868.2852 - accuracy: 0.0000e+00 - val_loss: -20902.4395 - val_accuracy: 0.0000e+00\n",
      "Epoch 71/100\n",
      "16/16 [==============================] - 0s 3ms/step - loss: -17077.6055 - accuracy: 0.0000e+00 - val_loss: -21537.1445 - val_accuracy: 0.0000e+00\n",
      "Epoch 72/100\n",
      "16/16 [==============================] - 0s 3ms/step - loss: -16230.2393 - accuracy: 0.0000e+00 - val_loss: -22092.0762 - val_accuracy: 0.0000e+00\n",
      "Epoch 73/100\n",
      "16/16 [==============================] - 0s 3ms/step - loss: -17644.3984 - accuracy: 0.0000e+00 - val_loss: -22704.0254 - val_accuracy: 0.0000e+00\n",
      "Epoch 74/100\n",
      "16/16 [==============================] - 0s 2ms/step - loss: -18365.3340 - accuracy: 0.0000e+00 - val_loss: -23283.1172 - val_accuracy: 0.0000e+00\n",
      "Epoch 75/100\n",
      "16/16 [==============================] - 0s 3ms/step - loss: -19034.0547 - accuracy: 0.0000e+00 - val_loss: -23796.3809 - val_accuracy: 0.0000e+00\n",
      "Epoch 76/100\n",
      "16/16 [==============================] - 0s 3ms/step - loss: -17871.4668 - accuracy: 0.0000e+00 - val_loss: -24560.7891 - val_accuracy: 0.0000e+00\n",
      "Epoch 77/100\n",
      "16/16 [==============================] - 0s 3ms/step - loss: -19145.7539 - accuracy: 0.0000e+00 - val_loss: -25158.2930 - val_accuracy: 0.0000e+00\n",
      "Epoch 78/100\n",
      "16/16 [==============================] - 0s 3ms/step - loss: -20779.7539 - accuracy: 0.0000e+00 - val_loss: -25811.7793 - val_accuracy: 0.0000e+00\n",
      "Epoch 79/100\n",
      "16/16 [==============================] - 0s 3ms/step - loss: -20930.2676 - accuracy: 0.0000e+00 - val_loss: -26416.3828 - val_accuracy: 0.0000e+00\n",
      "Epoch 80/100\n",
      "16/16 [==============================] - 0s 3ms/step - loss: -20798.0195 - accuracy: 0.0000e+00 - val_loss: -27029.9883 - val_accuracy: 0.0000e+00\n",
      "Epoch 81/100\n",
      "16/16 [==============================] - 0s 3ms/step - loss: -19864.6582 - accuracy: 0.0000e+00 - val_loss: -27645.5293 - val_accuracy: 0.0000e+00\n",
      "Epoch 82/100\n",
      "16/16 [==============================] - 0s 3ms/step - loss: -22661.4590 - accuracy: 0.0000e+00 - val_loss: -28260.3516 - val_accuracy: 0.0000e+00\n",
      "Epoch 83/100\n",
      "16/16 [==============================] - 0s 3ms/step - loss: -22137.1426 - accuracy: 0.0000e+00 - val_loss: -28845.7871 - val_accuracy: 0.0000e+00\n",
      "Epoch 84/100\n",
      "16/16 [==============================] - 0s 3ms/step - loss: -22967.3301 - accuracy: 0.0000e+00 - val_loss: -29447.0859 - val_accuracy: 0.0000e+00\n",
      "Epoch 85/100\n",
      "16/16 [==============================] - 0s 3ms/step - loss: -22314.6348 - accuracy: 0.0000e+00 - val_loss: -30227.9453 - val_accuracy: 0.0000e+00\n",
      "Epoch 86/100\n",
      "16/16 [==============================] - 0s 3ms/step - loss: -23865.9648 - accuracy: 0.0000e+00 - val_loss: -30825.7598 - val_accuracy: 0.0000e+00\n",
      "Epoch 87/100\n",
      "16/16 [==============================] - 0s 3ms/step - loss: -25533.2207 - accuracy: 0.0000e+00 - val_loss: -31633.0859 - val_accuracy: 0.0000e+00\n",
      "Epoch 88/100\n",
      "16/16 [==============================] - 0s 3ms/step - loss: -26848.5410 - accuracy: 0.0000e+00 - val_loss: -32239.9316 - val_accuracy: 0.0000e+00\n",
      "Epoch 89/100\n",
      "16/16 [==============================] - 0s 3ms/step - loss: -26666.6973 - accuracy: 0.0000e+00 - val_loss: -33136.8711 - val_accuracy: 0.0000e+00\n",
      "Epoch 90/100\n",
      "16/16 [==============================] - 0s 3ms/step - loss: -26229.3184 - accuracy: 0.0000e+00 - val_loss: -33849.6758 - val_accuracy: 0.0000e+00\n",
      "Epoch 91/100\n",
      "16/16 [==============================] - 0s 3ms/step - loss: -28246.9492 - accuracy: 0.0000e+00 - val_loss: -34574.9414 - val_accuracy: 0.0000e+00\n",
      "Epoch 92/100\n",
      "16/16 [==============================] - 0s 3ms/step - loss: -27549.6113 - accuracy: 0.0000e+00 - val_loss: -35259.3398 - val_accuracy: 0.0000e+00\n",
      "Epoch 93/100\n",
      "16/16 [==============================] - 0s 3ms/step - loss: -28596.1797 - accuracy: 0.0000e+00 - val_loss: -35966.5664 - val_accuracy: 0.0000e+00\n",
      "Epoch 94/100\n",
      "16/16 [==============================] - 0s 3ms/step - loss: -28932.7031 - accuracy: 0.0000e+00 - val_loss: -36650.4844 - val_accuracy: 0.0000e+00\n",
      "Epoch 95/100\n",
      "16/16 [==============================] - 0s 3ms/step - loss: -29374.7520 - accuracy: 0.0000e+00 - val_loss: -37310.8750 - val_accuracy: 0.0000e+00\n",
      "Epoch 96/100\n",
      "16/16 [==============================] - 0s 3ms/step - loss: -30873.8223 - accuracy: 0.0000e+00 - val_loss: -37954.8828 - val_accuracy: 0.0000e+00\n",
      "Epoch 97/100\n",
      "16/16 [==============================] - 0s 3ms/step - loss: -29477.8320 - accuracy: 0.0000e+00 - val_loss: -38830.1641 - val_accuracy: 0.0000e+00\n",
      "Epoch 98/100\n",
      "16/16 [==============================] - 0s 3ms/step - loss: -29889.1602 - accuracy: 0.0000e+00 - val_loss: -39502.5352 - val_accuracy: 0.0000e+00\n",
      "Epoch 99/100\n",
      "16/16 [==============================] - 0s 3ms/step - loss: -30181.3398 - accuracy: 0.0000e+00 - val_loss: -40269.3984 - val_accuracy: 0.0000e+00\n",
      "Epoch 100/100\n",
      "16/16 [==============================] - 0s 3ms/step - loss: -30856.3125 - accuracy: 0.0000e+00 - val_loss: -40958.3672 - val_accuracy: 0.0000e+00\n"
     ]
    },
    {
     "data": {
      "text/plain": [
       "<keras.src.callbacks.History at 0x1ccab9ff550>"
      ]
     },
     "execution_count": 52,
     "metadata": {},
     "output_type": "execute_result"
    }
   ],
   "source": [
    "# Training the model with early stopping\n",
    "early_stop = EarlyStopping(monitor='val_loss', patience=5, restore_best_weights=True)\n",
    "model.fit(X_train_final, y_train, epochs=100, batch_size=32, verbose=1, validation_data=(X_test_final, y_test), callbacks=[early_stop])"
   ]
  },
  {
   "cell_type": "code",
   "execution_count": 53,
   "id": "8aa36725",
   "metadata": {},
   "outputs": [
    {
     "name": "stdout",
     "output_type": "stream",
     "text": [
      "4/4 [==============================] - 0s 2ms/step - loss: -40958.3672 - accuracy: 0.0000e+00\n",
      "Neural Network Accuracy: 0.0\n",
      "4/4 [==============================] - 0s 1ms/step\n"
     ]
    },
    {
     "ename": "ValueError",
     "evalue": "Target is multiclass but average='binary'. Please choose another average setting, one of [None, 'micro', 'macro', 'weighted'].",
     "output_type": "error",
     "traceback": [
      "\u001b[1;31m---------------------------------------------------------------------------\u001b[0m",
      "\u001b[1;31mValueError\u001b[0m                                Traceback (most recent call last)",
      "Cell \u001b[1;32mIn[53], line 9\u001b[0m\n\u001b[0;32m      6\u001b[0m y_pred \u001b[38;5;241m=\u001b[39m model\u001b[38;5;241m.\u001b[39mpredict(X_test_final)\n\u001b[0;32m      7\u001b[0m y_pred_classes \u001b[38;5;241m=\u001b[39m (y_pred \u001b[38;5;241m>\u001b[39m \u001b[38;5;241m0.5\u001b[39m)\u001b[38;5;241m.\u001b[39mastype(\u001b[38;5;28mint\u001b[39m)  \u001b[38;5;66;03m# Convert predicted probabilities to classes\u001b[39;00m\n\u001b[1;32m----> 9\u001b[0m precision \u001b[38;5;241m=\u001b[39m \u001b[43mprecision_score\u001b[49m\u001b[43m(\u001b[49m\u001b[43my_test\u001b[49m\u001b[43m,\u001b[49m\u001b[43m \u001b[49m\u001b[43my_pred_classes\u001b[49m\u001b[43m)\u001b[49m\n\u001b[0;32m     10\u001b[0m recall \u001b[38;5;241m=\u001b[39m recall_score(y_test, y_pred_classes)\n\u001b[0;32m     11\u001b[0m f1 \u001b[38;5;241m=\u001b[39m f1_score(y_test, y_pred_classes)\n",
      "File \u001b[1;32mD:\\Anaconda\\lib\\site-packages\\sklearn\\metrics\\_classification.py:1954\u001b[0m, in \u001b[0;36mprecision_score\u001b[1;34m(y_true, y_pred, labels, pos_label, average, sample_weight, zero_division)\u001b[0m\n\u001b[0;32m   1825\u001b[0m \u001b[38;5;28;01mdef\u001b[39;00m \u001b[38;5;21mprecision_score\u001b[39m(\n\u001b[0;32m   1826\u001b[0m     y_true,\n\u001b[0;32m   1827\u001b[0m     y_pred,\n\u001b[1;32m   (...)\u001b[0m\n\u001b[0;32m   1833\u001b[0m     zero_division\u001b[38;5;241m=\u001b[39m\u001b[38;5;124m\"\u001b[39m\u001b[38;5;124mwarn\u001b[39m\u001b[38;5;124m\"\u001b[39m,\n\u001b[0;32m   1834\u001b[0m ):\n\u001b[0;32m   1835\u001b[0m \u001b[38;5;250m    \u001b[39m\u001b[38;5;124;03m\"\"\"Compute the precision.\u001b[39;00m\n\u001b[0;32m   1836\u001b[0m \n\u001b[0;32m   1837\u001b[0m \u001b[38;5;124;03m    The precision is the ratio ``tp / (tp + fp)`` where ``tp`` is the number of\u001b[39;00m\n\u001b[1;32m   (...)\u001b[0m\n\u001b[0;32m   1952\u001b[0m \u001b[38;5;124;03m    array([0.5, 1. , 1. ])\u001b[39;00m\n\u001b[0;32m   1953\u001b[0m \u001b[38;5;124;03m    \"\"\"\u001b[39;00m\n\u001b[1;32m-> 1954\u001b[0m     p, _, _, _ \u001b[38;5;241m=\u001b[39m \u001b[43mprecision_recall_fscore_support\u001b[49m\u001b[43m(\u001b[49m\n\u001b[0;32m   1955\u001b[0m \u001b[43m        \u001b[49m\u001b[43my_true\u001b[49m\u001b[43m,\u001b[49m\n\u001b[0;32m   1956\u001b[0m \u001b[43m        \u001b[49m\u001b[43my_pred\u001b[49m\u001b[43m,\u001b[49m\n\u001b[0;32m   1957\u001b[0m \u001b[43m        \u001b[49m\u001b[43mlabels\u001b[49m\u001b[38;5;241;43m=\u001b[39;49m\u001b[43mlabels\u001b[49m\u001b[43m,\u001b[49m\n\u001b[0;32m   1958\u001b[0m \u001b[43m        \u001b[49m\u001b[43mpos_label\u001b[49m\u001b[38;5;241;43m=\u001b[39;49m\u001b[43mpos_label\u001b[49m\u001b[43m,\u001b[49m\n\u001b[0;32m   1959\u001b[0m \u001b[43m        \u001b[49m\u001b[43maverage\u001b[49m\u001b[38;5;241;43m=\u001b[39;49m\u001b[43maverage\u001b[49m\u001b[43m,\u001b[49m\n\u001b[0;32m   1960\u001b[0m \u001b[43m        \u001b[49m\u001b[43mwarn_for\u001b[49m\u001b[38;5;241;43m=\u001b[39;49m\u001b[43m(\u001b[49m\u001b[38;5;124;43m\"\u001b[39;49m\u001b[38;5;124;43mprecision\u001b[39;49m\u001b[38;5;124;43m\"\u001b[39;49m\u001b[43m,\u001b[49m\u001b[43m)\u001b[49m\u001b[43m,\u001b[49m\n\u001b[0;32m   1961\u001b[0m \u001b[43m        \u001b[49m\u001b[43msample_weight\u001b[49m\u001b[38;5;241;43m=\u001b[39;49m\u001b[43msample_weight\u001b[49m\u001b[43m,\u001b[49m\n\u001b[0;32m   1962\u001b[0m \u001b[43m        \u001b[49m\u001b[43mzero_division\u001b[49m\u001b[38;5;241;43m=\u001b[39;49m\u001b[43mzero_division\u001b[49m\u001b[43m,\u001b[49m\n\u001b[0;32m   1963\u001b[0m \u001b[43m    \u001b[49m\u001b[43m)\u001b[49m\n\u001b[0;32m   1964\u001b[0m     \u001b[38;5;28;01mreturn\u001b[39;00m p\n",
      "File \u001b[1;32mD:\\Anaconda\\lib\\site-packages\\sklearn\\metrics\\_classification.py:1573\u001b[0m, in \u001b[0;36mprecision_recall_fscore_support\u001b[1;34m(y_true, y_pred, beta, labels, pos_label, average, warn_for, sample_weight, zero_division)\u001b[0m\n\u001b[0;32m   1571\u001b[0m \u001b[38;5;28;01mif\u001b[39;00m beta \u001b[38;5;241m<\u001b[39m \u001b[38;5;241m0\u001b[39m:\n\u001b[0;32m   1572\u001b[0m     \u001b[38;5;28;01mraise\u001b[39;00m \u001b[38;5;167;01mValueError\u001b[39;00m(\u001b[38;5;124m\"\u001b[39m\u001b[38;5;124mbeta should be >=0 in the F-beta score\u001b[39m\u001b[38;5;124m\"\u001b[39m)\n\u001b[1;32m-> 1573\u001b[0m labels \u001b[38;5;241m=\u001b[39m \u001b[43m_check_set_wise_labels\u001b[49m\u001b[43m(\u001b[49m\u001b[43my_true\u001b[49m\u001b[43m,\u001b[49m\u001b[43m \u001b[49m\u001b[43my_pred\u001b[49m\u001b[43m,\u001b[49m\u001b[43m \u001b[49m\u001b[43maverage\u001b[49m\u001b[43m,\u001b[49m\u001b[43m \u001b[49m\u001b[43mlabels\u001b[49m\u001b[43m,\u001b[49m\u001b[43m \u001b[49m\u001b[43mpos_label\u001b[49m\u001b[43m)\u001b[49m\n\u001b[0;32m   1575\u001b[0m \u001b[38;5;66;03m# Calculate tp_sum, pred_sum, true_sum ###\u001b[39;00m\n\u001b[0;32m   1576\u001b[0m samplewise \u001b[38;5;241m=\u001b[39m average \u001b[38;5;241m==\u001b[39m \u001b[38;5;124m\"\u001b[39m\u001b[38;5;124msamples\u001b[39m\u001b[38;5;124m\"\u001b[39m\n",
      "File \u001b[1;32mD:\\Anaconda\\lib\\site-packages\\sklearn\\metrics\\_classification.py:1391\u001b[0m, in \u001b[0;36m_check_set_wise_labels\u001b[1;34m(y_true, y_pred, average, labels, pos_label)\u001b[0m\n\u001b[0;32m   1389\u001b[0m         \u001b[38;5;28;01mif\u001b[39;00m y_type \u001b[38;5;241m==\u001b[39m \u001b[38;5;124m\"\u001b[39m\u001b[38;5;124mmulticlass\u001b[39m\u001b[38;5;124m\"\u001b[39m:\n\u001b[0;32m   1390\u001b[0m             average_options\u001b[38;5;241m.\u001b[39mremove(\u001b[38;5;124m\"\u001b[39m\u001b[38;5;124msamples\u001b[39m\u001b[38;5;124m\"\u001b[39m)\n\u001b[1;32m-> 1391\u001b[0m         \u001b[38;5;28;01mraise\u001b[39;00m \u001b[38;5;167;01mValueError\u001b[39;00m(\n\u001b[0;32m   1392\u001b[0m             \u001b[38;5;124m\"\u001b[39m\u001b[38;5;124mTarget is \u001b[39m\u001b[38;5;132;01m%s\u001b[39;00m\u001b[38;5;124m but average=\u001b[39m\u001b[38;5;124m'\u001b[39m\u001b[38;5;124mbinary\u001b[39m\u001b[38;5;124m'\u001b[39m\u001b[38;5;124m. Please \u001b[39m\u001b[38;5;124m\"\u001b[39m\n\u001b[0;32m   1393\u001b[0m             \u001b[38;5;124m\"\u001b[39m\u001b[38;5;124mchoose another average setting, one of \u001b[39m\u001b[38;5;132;01m%r\u001b[39;00m\u001b[38;5;124m.\u001b[39m\u001b[38;5;124m\"\u001b[39m \u001b[38;5;241m%\u001b[39m (y_type, average_options)\n\u001b[0;32m   1394\u001b[0m         )\n\u001b[0;32m   1395\u001b[0m \u001b[38;5;28;01melif\u001b[39;00m pos_label \u001b[38;5;129;01mnot\u001b[39;00m \u001b[38;5;129;01min\u001b[39;00m (\u001b[38;5;28;01mNone\u001b[39;00m, \u001b[38;5;241m1\u001b[39m):\n\u001b[0;32m   1396\u001b[0m     warnings\u001b[38;5;241m.\u001b[39mwarn(\n\u001b[0;32m   1397\u001b[0m         \u001b[38;5;124m\"\u001b[39m\u001b[38;5;124mNote that pos_label (set to \u001b[39m\u001b[38;5;132;01m%r\u001b[39;00m\u001b[38;5;124m) is ignored when \u001b[39m\u001b[38;5;124m\"\u001b[39m\n\u001b[0;32m   1398\u001b[0m         \u001b[38;5;124m\"\u001b[39m\u001b[38;5;124maverage != \u001b[39m\u001b[38;5;124m'\u001b[39m\u001b[38;5;124mbinary\u001b[39m\u001b[38;5;124m'\u001b[39m\u001b[38;5;124m (got \u001b[39m\u001b[38;5;132;01m%r\u001b[39;00m\u001b[38;5;124m). You may use \u001b[39m\u001b[38;5;124m\"\u001b[39m\n\u001b[1;32m   (...)\u001b[0m\n\u001b[0;32m   1401\u001b[0m         \u001b[38;5;167;01mUserWarning\u001b[39;00m,\n\u001b[0;32m   1402\u001b[0m     )\n",
      "\u001b[1;31mValueError\u001b[0m: Target is multiclass but average='binary'. Please choose another average setting, one of [None, 'micro', 'macro', 'weighted']."
     ]
    }
   ],
   "source": [
    "# Evaluate the model\n",
    "loss, accuracy = model.evaluate(X_test_final, y_test)\n",
    "print(f\"Neural Network Accuracy: {accuracy}\")\n",
    "\n",
    "# Calculating validation metrics\n",
    "y_pred = model.predict(X_test_final)\n",
    "y_pred_classes = (y_pred > 0.5).astype(int)  # Convert predicted probabilities to classes\n",
    "\n",
    "precision = precision_score(y_test, y_pred_classes)\n",
    "recall = recall_score(y_test, y_pred_classes)\n",
    "f1 = f1_score(y_test, y_pred_classes)\n",
    "\n",
    "print(f\"Precision: {precision}\")\n",
    "print(f\"Recall: {recall}\")\n",
    "print(f\"F1-score: {f1}\")"
   ]
  },
  {
   "cell_type": "code",
   "execution_count": 40,
   "id": "f8fc19bd",
   "metadata": {},
   "outputs": [
    {
     "name": "stderr",
     "output_type": "stream",
     "text": [
      "D:\\Anaconda\\lib\\site-packages\\keras\\src\\engine\\training.py:3079: UserWarning: You are saving your model as an HDF5 file via `model.save()`. This file format is considered legacy. We recommend using instead the native Keras format, e.g. `model.save('my_model.keras')`.\n",
      "  saving_api.save_model(\n"
     ]
    }
   ],
   "source": [
    "# Save the scaler\n",
    "scaler_filename = 'scaler.pkl'\n",
    "scaler_path = Path(scaler_filename)\n",
    "joblib.dump(scaler, scaler_path)\n",
    "\n",
    "# Save the encoder\n",
    "encoder_filename = 'encoder.pkl'\n",
    "encoder_path = Path(encoder_filename)\n",
    "joblib.dump(encoder, encoder_path)\n",
    "\n",
    "# Save the model\n",
    "model_filename = 'ev_model.h5'\n",
    "model_path = Path(model_filename)\n",
    "model.save(model_path)"
   ]
  },
  {
   "cell_type": "code",
   "execution_count": null,
   "id": "2311f4fe",
   "metadata": {},
   "outputs": [],
   "source": []
  }
 ],
 "metadata": {
  "kernelspec": {
   "display_name": "Python 3 (ipykernel)",
   "language": "python",
   "name": "python3"
  },
  "language_info": {
   "codemirror_mode": {
    "name": "ipython",
    "version": 3
   },
   "file_extension": ".py",
   "mimetype": "text/x-python",
   "name": "python",
   "nbconvert_exporter": "python",
   "pygments_lexer": "ipython3",
   "version": "3.10.9"
  }
 },
 "nbformat": 4,
 "nbformat_minor": 5
}
